{
 "cells": [
  {
   "cell_type": "code",
   "execution_count": 1,
   "id": "fbc2bec6-d885-4281-8bc2-6582c528705f",
   "metadata": {},
   "outputs": [],
   "source": [
    "import sys\n",
    "import os\n",
    "sys.path.append(os.path.abspath('..'))  # Adds parent folder (credit-risk-model) to sys.path\n"
   ]
  },
  {
   "cell_type": "code",
   "execution_count": null,
   "id": "d4978dc4-dc4f-4541-8ead-7577dbb0c5be",
   "metadata": {},
   "outputs": [],
   "source": [
    "import sys\n",
    "import os\n",
    "\n",
    "# Add project root to sys.path so `src` can be imported\n",
    "sys.path.append(os.path.abspath(\"..\"))\n",
    "\n",
    "from src.feature_engineering import (\n",
    "    add_aggregate_features,\n",
    "    add_datetime_features,\n",
    "    get_preprocessing_pipeline\n",
    ")\n",
    "\n",
    "import pandas as pd"
   ]
  },
  {
   "cell_type": "code",
   "execution_count": 4,
   "id": "e0137fdb-4360-4f59-99ea-0f643720997e",
   "metadata": {},
   "outputs": [
    {
     "name": "stdout",
     "output_type": "stream",
     "text": [
      "         TransactionId         BatchId       AccountId       SubscriptionId  \\\n",
      "0  TransactionId_76871   BatchId_36123  AccountId_3957   SubscriptionId_887   \n",
      "1  TransactionId_73770   BatchId_15642  AccountId_4841  SubscriptionId_3829   \n",
      "2  TransactionId_26203   BatchId_53941  AccountId_4229   SubscriptionId_222   \n",
      "3    TransactionId_380  BatchId_102363   AccountId_648  SubscriptionId_2185   \n",
      "4  TransactionId_28195   BatchId_38780  AccountId_4841  SubscriptionId_3829   \n",
      "\n",
      "        CustomerId CurrencyCode  CountryCode    ProviderId     ProductId  \\\n",
      "0  CustomerId_4406          UGX          256  ProviderId_6  ProductId_10   \n",
      "1  CustomerId_4406          UGX          256  ProviderId_4   ProductId_6   \n",
      "2  CustomerId_4683          UGX          256  ProviderId_6   ProductId_1   \n",
      "3   CustomerId_988          UGX          256  ProviderId_1  ProductId_21   \n",
      "4   CustomerId_988          UGX          256  ProviderId_4   ProductId_6   \n",
      "\n",
      "      ProductCategory  ... PricingStrategy  FraudResult  total_amount  \\\n",
      "0             airtime  ...               2            0     109921.75   \n",
      "1  financial_services  ...               2            0     109921.75   \n",
      "2             airtime  ...               2            0       1000.00   \n",
      "3        utility_bill  ...               2            0     228727.20   \n",
      "4  financial_services  ...               2            0     228727.20   \n",
      "\n",
      "    avg_amount  count_transactions    std_amount  transaction_hour  \\\n",
      "0   923.712185                 119   3042.294251                 2   \n",
      "1   923.712185                 119   3042.294251                 2   \n",
      "2   500.000000                   2      0.000000                 2   \n",
      "3  6019.136842                  38  17169.241610                 3   \n",
      "4  6019.136842                  38  17169.241610                 3   \n",
      "\n",
      "   transaction_day  transaction_month  transaction_year  \n",
      "0               15                 11              2018  \n",
      "1               15                 11              2018  \n",
      "2               15                 11              2018  \n",
      "3               15                 11              2018  \n",
      "4               15                 11              2018  \n",
      "\n",
      "[5 rows x 24 columns]\n"
     ]
    }
   ],
   "source": [
    "from src.data_processing import build_feature_engineering_pipeline\n",
    "df = pd.read_csv('../data/raw/data.csv')\n",
    "pipeline = build_feature_engineering_pipeline()\n",
    "df_transformed = pipeline.fit_transform(df)\n",
    "print(df_transformed.head())\n"
   ]
  },
  {
   "cell_type": "code",
   "execution_count": null,
   "id": "2243beb3-fb99-4427-bcb6-3acc545d6796",
   "metadata": {},
   "outputs": [],
   "source": [
    "df = add_aggregate_features(df)\n",
    "df = add_datetime_features(df)\n",
    "\n",
    "# (Optional) Handle missing values (drop or fill)\n",
    "df = df.dropna()  # Or use df.fillna(method=\"ffill\"), etc.\n",
    "\n",
    "# Step 3: Build pipeline\n",
    "pipeline = get_preprocessing_pipeline()\n",
    "\n",
    "# Step 4: Fit the pipeline\n",
    "X = pipeline.fit_transform(df)\n",
    "\n",
    "# Step 5: Extract feature names\n",
    "feature_names = get_feature_names(pipeline)\n",
    "\n",
    "# Step 6: Convert to DataFrame\n",
    "import numpy as np\n",
    "X_df = pd.DataFrame(\n",
    "    X.toarray() if hasattr(X, \"toarray\") else X,\n",
    "    columns=feature_names\n",
    ")\n",
    "\n",
    "# Preview result\n",
    "print(\"✅ Transformed shape:\", X_df.shape)\n",
    "X_df.head()"
   ]
  },
  {
   "cell_type": "code",
   "execution_count": 4,
   "id": "351f288a-2446-4f49-bb87-6b10e7982e1a",
   "metadata": {},
   "outputs": [
    {
     "name": "stdout",
     "output_type": "stream",
     "text": [
      "Transformed shape: (95662, 29)\n"
     ]
    }
   ],
   "source": [
    "import pandas as pd\n",
    "from src.feature_engineering import get_feature_engineering_pipeline\n",
    "\n",
    "\n",
    "# Initialize pipeline\n",
    "pipeline = get_feature_engineering_pipeline()\n",
    "\n",
    "# Transform data\n",
    "X = pipeline.fit_transform(df)\n",
    "\n",
    "# (Optional) Inspect shape\n",
    "print(\"Transformed shape:\", X.shape)\n"
   ]
  },
  {
   "cell_type": "code",
   "execution_count": 6,
   "id": "c97e08aa-33ff-4b82-9b3e-4a1fa8c9a0c1",
   "metadata": {},
   "outputs": [
    {
     "name": "stdout",
     "output_type": "stream",
     "text": [
      "Transformed shape: (95662, 29)\n",
      "\n",
      "Feature names (first 10): ['Amount', 'PricingStrategy', 'total_amount', 'avg_amount', 'count_transactions', 'std_amount', 'transaction_hour', 'transaction_day', 'transaction_month', 'transaction_year']\n",
      "Total features: 29\n"
     ]
    }
   ],
   "source": [
    "import pandas as pd\n",
    "from src.feature_engineering import get_feature_engineering_pipeline\n",
    "\n",
    "# Initialize pipeline\n",
    "pipeline = get_feature_engineering_pipeline()\n",
    "\n",
    "# Fit and transform data\n",
    "X_transformed = pipeline.fit_transform(df)\n",
    "\n",
    "# --- Get feature names ---\n",
    "# 1. Extract numeric feature names (defined in your pipeline)\n",
    "numeric_features = [\n",
    "    \"Amount\", \"PricingStrategy\",\n",
    "    \"total_amount\", \"avg_amount\", \"count_transactions\", \"std_amount\",\n",
    "    \"transaction_hour\", \"transaction_day\", \"transaction_month\", \"transaction_year\"\n",
    "]\n",
    "\n",
    "# 2. Get OneHot encoded feature names\n",
    "preprocessor = pipeline.named_steps['preprocessing']\n",
    "onehot_encoder = preprocessor.named_transformers_['cat'].named_steps['onehot']\n",
    "categorical_features = [\"ProductCategory\", \"ChannelId\", \"ProviderId\"]\n",
    "onehot_columns = onehot_encoder.get_feature_names_out(categorical_features)\n",
    "\n",
    "# 3. Combine all features\n",
    "all_features = numeric_features + list(onehot_columns)\n",
    "\n",
    "# Print results\n",
    "print(\"Transformed shape:\", X_transformed.shape)\n",
    "print(\"\\nFeature names (first 10):\", all_features[:10])\n",
    "print(\"Total features:\", len(all_features))"
   ]
  },
  {
   "cell_type": "code",
   "execution_count": 7,
   "id": "f3c4228d-86fe-4106-b8f1-12240bbdb5db",
   "metadata": {},
   "outputs": [],
   "source": []
  },
  {
   "cell_type": "code",
   "execution_count": null,
   "id": "485dbd64-79d6-470c-a436-767c458254ed",
   "metadata": {},
   "outputs": [],
   "source": []
  }
 ],
 "metadata": {
  "kernelspec": {
   "display_name": "Python 3 (ipykernel)",
   "language": "python",
   "name": "python3"
  },
  "language_info": {
   "codemirror_mode": {
    "name": "ipython",
    "version": 3
   },
   "file_extension": ".py",
   "mimetype": "text/x-python",
   "name": "python",
   "nbconvert_exporter": "python",
   "pygments_lexer": "ipython3",
   "version": "3.12.0"
  }
 },
 "nbformat": 4,
 "nbformat_minor": 5
}
