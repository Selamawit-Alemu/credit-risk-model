{
 "cells": [
  {
   "cell_type": "code",
   "execution_count": 1,
   "id": "725438cf-4cdf-4e80-ad2d-5596359efb76",
   "metadata": {},
   "outputs": [],
   "source": [
    "import sys\n",
    "import os\n",
    "sys.path.append(os.path.abspath('..'))  # Adds parent folder (credit-risk-model) to sys.path\n",
    "import pandas as pd"
   ]
  },
  {
   "cell_type": "code",
   "execution_count": 5,
   "id": "755666ce-55ff-4a8a-b935-f9ae5284eae5",
   "metadata": {},
   "outputs": [],
   "source": [
    "\n",
    "from src.proxy_target import calculate_rfm, scale_rfm, perform_kmeans_clustering, label_high_risk_customers"
   ]
  },
  {
   "cell_type": "code",
   "execution_count": 2,
   "id": "96c9731f-95b7-4975-9a16-1d513355699f",
   "metadata": {},
   "outputs": [
    {
     "data": {
      "text/html": [
       "<div>\n",
       "<style scoped>\n",
       "    .dataframe tbody tr th:only-of-type {\n",
       "        vertical-align: middle;\n",
       "    }\n",
       "\n",
       "    .dataframe tbody tr th {\n",
       "        vertical-align: top;\n",
       "    }\n",
       "\n",
       "    .dataframe thead th {\n",
       "        text-align: right;\n",
       "    }\n",
       "</style>\n",
       "<table border=\"1\" class=\"dataframe\">\n",
       "  <thead>\n",
       "    <tr style=\"text-align: right;\">\n",
       "      <th></th>\n",
       "      <th>CustomerId</th>\n",
       "      <th>recency</th>\n",
       "      <th>frequency</th>\n",
       "      <th>monetary</th>\n",
       "    </tr>\n",
       "  </thead>\n",
       "  <tbody>\n",
       "    <tr>\n",
       "      <th>0</th>\n",
       "      <td>CustomerId_1</td>\n",
       "      <td>84</td>\n",
       "      <td>1</td>\n",
       "      <td>-10000.0</td>\n",
       "    </tr>\n",
       "    <tr>\n",
       "      <th>1</th>\n",
       "      <td>CustomerId_10</td>\n",
       "      <td>84</td>\n",
       "      <td>1</td>\n",
       "      <td>-10000.0</td>\n",
       "    </tr>\n",
       "    <tr>\n",
       "      <th>2</th>\n",
       "      <td>CustomerId_1001</td>\n",
       "      <td>90</td>\n",
       "      <td>5</td>\n",
       "      <td>20000.0</td>\n",
       "    </tr>\n",
       "    <tr>\n",
       "      <th>3</th>\n",
       "      <td>CustomerId_1002</td>\n",
       "      <td>26</td>\n",
       "      <td>11</td>\n",
       "      <td>4225.0</td>\n",
       "    </tr>\n",
       "    <tr>\n",
       "      <th>4</th>\n",
       "      <td>CustomerId_1003</td>\n",
       "      <td>12</td>\n",
       "      <td>6</td>\n",
       "      <td>20000.0</td>\n",
       "    </tr>\n",
       "  </tbody>\n",
       "</table>\n",
       "</div>"
      ],
      "text/plain": [
       "        CustomerId  recency  frequency  monetary\n",
       "0     CustomerId_1       84          1  -10000.0\n",
       "1    CustomerId_10       84          1  -10000.0\n",
       "2  CustomerId_1001       90          5   20000.0\n",
       "3  CustomerId_1002       26         11    4225.0\n",
       "4  CustomerId_1003       12          6   20000.0"
      ]
     },
     "execution_count": 2,
     "metadata": {},
     "output_type": "execute_result"
    }
   ],
   "source": [
    "from src.proxy_target import calculate_rfm\n",
    "\n",
    "# Load raw data\n",
    "df = pd.read_csv(\"../data/raw/data.csv\")\n",
    "\n",
    "# Generate RFM table\n",
    "rfm_df = calculate_rfm(df)\n",
    "\n",
    "# Preview\n",
    "rfm_df.head()\n"
   ]
  },
  {
   "cell_type": "code",
   "execution_count": 3,
   "id": "194c27c4-fe0b-4c43-ba64-2501cbf4e103",
   "metadata": {},
   "outputs": [
    {
     "data": {
      "text/plain": [
       "is_high_risk\n",
       "0    3709\n",
       "1      33\n",
       "Name: count, dtype: int64"
      ]
     },
     "execution_count": 3,
     "metadata": {},
     "output_type": "execute_result"
    }
   ],
   "source": [
    "from src.proxy_target import label_high_risk_customers\n",
    "\n",
    "# Add label to the RFM table\n",
    "rfm_labeled = label_high_risk_customers(rfm_df)\n",
    "\n",
    "# Preview\n",
    "rfm_labeled.head()\n",
    "rfm_labeled[\"is_high_risk\"].value_counts()\n"
   ]
  },
  {
   "cell_type": "code",
   "execution_count": 17,
   "id": "57e2905d-5ae0-4cf6-9806-abb4cbabdc1c",
   "metadata": {},
   "outputs": [
    {
     "name": "stdout",
     "output_type": "stream",
     "text": [
      "Libraries and functions imported successfully!\n"
     ]
    }
   ],
   "source": [
    "# Cell 1: Import necessary libraries and functions\n",
    "import pandas as pd\n",
    "# Import your functions from the src directory\n",
    "# Make sure src is in your Python path, or run the notebook from the parent directory\n",
    "# of src, or add the parent directory of src to sys.path if needed for complex setups.\n",
    "from src.proxy_target import calculate_rfm, scale_rfm, perform_kmeans_clustering, label_high_risk_customers\n",
    "\n",
    "# You might need this if your notebook isn't started from the project root\n",
    "# import sys\n",
    "# import os\n",
    "# sys.path.append(os.path.abspath(os.path.join(os.getcwd(), '..')))\n",
    "# from src.proxy_target import calculate_rfm, scale_rfm, perform_kmeans_clustering, label_high_risk_customers\n",
    "\n",
    "print(\"Libraries and functions imported successfully!\")"
   ]
  },
  {
   "cell_type": "code",
   "execution_count": 10,
   "id": "51f89a20-2384-48fb-9764-d503dcc30f04",
   "metadata": {
    "scrolled": true
   },
   "outputs": [
    {
     "name": "stdout",
     "output_type": "stream",
     "text": [
      "RFM DataFrame head:\n",
      "         CustomerId  recency  frequency  monetary\n",
      "0     CustomerId_1       84          1  -10000.0\n",
      "1    CustomerId_10       84          1  -10000.0\n",
      "2  CustomerId_1001       90          5   20000.0\n",
      "3  CustomerId_1002       26         11    4225.0\n",
      "4  CustomerId_1003       12          6   20000.0\n",
      "Cluster summary:\n",
      "            recency    frequency      monetary\n",
      "cluster                                      \n",
      "0        61.859846     7.726699  8.172379e+04\n",
      "1        29.000000  4091.000000 -1.049000e+08\n",
      "2        12.716076    34.807692  2.726546e+05\n",
      "is_high_risk\n",
      "0    2315\n",
      "1    1427\n",
      "Name: count, dtype: int64\n"
     ]
    },
    {
     "data": {
      "image/png": "[encoded data removed]",
      "text/plain": [
       "<Figure size 640x480 with 1 Axes>"
      ]
     },
     "metadata": {},
     "output_type": "display_data"
    }
   ],
   "source": [
    "import pandas as pd\n",
    "import matplotlib.pyplot as plt\n",
    "import seaborn as sns\n",
    "from src.proxy_target import calculate_rfm, scale_rfm, perform_kmeans_clustering\n",
    "\n",
    "# Load data\n",
    "df = pd.read_csv(\"../data/raw/data.csv\")\n",
    "df[\"TransactionStartTime\"] = pd.to_datetime(df[\"TransactionStartTime\"])\n",
    "\n",
    "# Define snapshot date for consistent recency calculation\n",
    "snapshot_date = df[\"TransactionStartTime\"].max() + pd.Timedelta(days=1)\n",
    "\n",
    "# Step 1: Calculate RFM metrics\n",
    "rfm = calculate_rfm(df, snapshot_date)\n",
    "print(\"RFM DataFrame head:\\n\", rfm.head())\n",
    "\n",
    "# Step 2: Scale RFM features\n",
    "rfm_scaled, scaler = scale_rfm(rfm)\n",
    "\n",
    "# Step 3: Cluster customers with K-Means\n",
    "rfm[\"cluster\"], kmeans_model = perform_kmeans_clustering(rfm_scaled)\n",
    "\n",
    "# Step 4: Analyze cluster centers to determine high-risk cluster\n",
    "cluster_summary = rfm.groupby(\"cluster\")[[\"recency\", \"frequency\", \"monetary\"]].mean()\n",
    "print(\"Cluster summary:\\n\", cluster_summary)\n",
    "\n",
    "# Assume high-risk cluster is the one with lowest frequency and monetary\n",
    "high_risk_cluster = cluster_summary.sort_values([\"frequency\", \"monetary\"]).index[0]\n",
    "\n",
    "# Step 5: Create binary is_high_risk label\n",
    "rfm[\"is_high_risk\"] = (rfm[\"cluster\"] == high_risk_cluster).astype(int)\n",
    "print(rfm[\"is_high_risk\"].value_counts())\n",
    "\n",
    "# Step 6: Merge label back into main dataframe\n",
    "df = df.merge(rfm[[\"CustomerId\", \"is_high_risk\"]], on=\"CustomerId\", how=\"left\")\n",
    "\n",
    "# Optional visualization\n",
    "sns.scatterplot(data=rfm, x=\"recency\", y=\"monetary\", hue=\"cluster\", palette=\"viridis\")\n",
    "plt.title(\"RFM Clusters\")\n",
    "plt.show()\n"
   ]
  },
  {
   "cell_type": "code",
   "execution_count": 11,
   "id": "a6fa955a-5361-4f03-a0ec-0df9cc5e0422",
   "metadata": {},
   "outputs": [
    {
     "name": "stdout",
     "output_type": "stream",
     "text": [
      "           recency    frequency      monetary\n",
      "cluster                                      \n",
      "0        61.859846     7.726699  8.172379e+04\n",
      "1        29.000000  4091.000000 -1.049000e+08\n",
      "2        12.716076    34.807692  2.726546e+05\n"
     ]
    }
   ],
   "source": [
    "cluster_summary = rfm.groupby(\"cluster\")[[\"recency\", \"frequency\", \"monetary\"]].mean()\n",
    "print(cluster_summary)\n"
   ]
  },
  {
   "cell_type": "code",
   "execution_count": 13,
   "id": "e14abd95-1051-46f6-8418-bc2e8ff5c327",
   "metadata": {},
   "outputs": [
    {
     "name": "stdout",
     "output_type": "stream",
     "text": [
      "           recency    frequency      monetary\n",
      "cluster                                      \n",
      "0        61.859846     7.726699  8.172379e+04\n",
      "1        29.000000  4091.000000 -1.049000e+08\n",
      "2        12.716076    34.807692  2.726546e+05\n",
      "High-risk cluster identified as: 0\n",
      "        CustomerId  cluster  is_high_risk\n",
      "0     CustomerId_1        0             1\n",
      "1    CustomerId_10        0             1\n",
      "2  CustomerId_1001        0             1\n",
      "3  CustomerId_1002        2             0\n",
      "4  CustomerId_1003        2             0\n"
     ]
    }
   ],
   "source": [
    "# Step 1: Summarize clusters\n",
    "cluster_summary = rfm.groupby(\"cluster\")[[\"recency\", \"frequency\", \"monetary\"]].mean()\n",
    "print(cluster_summary)\n",
    "\n",
    "# Step 2: Identify high-risk cluster\n",
    "high_risk_cluster = cluster_summary.sort_values([\"frequency\", \"monetary\"]).index[0]\n",
    "print(f\"High-risk cluster identified as: {high_risk_cluster}\")\n",
    "\n",
    "# Step 3: Label customers\n",
    "rfm[\"is_high_risk\"] = (rfm[\"cluster\"] == high_risk_cluster).astype(int)\n",
    "\n",
    "# Preview labeled data\n",
    "print(rfm[[\"CustomerId\", \"cluster\", \"is_high_risk\"]].head())\n"
   ]
  },
  {
   "cell_type": "code",
   "execution_count": 15,
   "id": "3d28ea75-c748-4d25-9a2b-4b5d9ad1f747",
   "metadata": {},
   "outputs": [
    {
     "name": "stdout",
     "output_type": "stream",
     "text": [
      "Index(['CustomerId', 'is_high_risk'], dtype='object')\n"
     ]
    }
   ],
   "source": [
    "print(risk_labels.columns)\n"
   ]
  },
  {
   "cell_type": "code",
   "execution_count": 16,
   "id": "df619ea9-d85e-439e-85d1-e680215a5e67",
   "metadata": {},
   "outputs": [
    {
     "name": "stdout",
     "output_type": "stream",
     "text": [
      "Index(['CustomerId', 'recency', 'frequency', 'monetary', 'cluster',\n",
      "       'is_high_risk'],\n",
      "      dtype='object')\n"
     ]
    }
   ],
   "source": [
    "# Confirm this exists\n",
    "print(rfm.columns)\n",
    "\n",
    "# If 'is_high_risk' is missing, add it\n",
    "if \"is_high_risk\" not in rfm.columns:\n",
    "    # Re-identify high-risk cluster using existing clustering\n",
    "    cluster_summary = rfm.groupby(\"cluster\")[[\"recency\", \"frequency\", \"monetary\"]].mean()\n",
    "    high_risk_cluster = cluster_summary.sort_values([\"frequency\", \"monetary\"]).index[0]\n",
    "\n",
    "    rfm[\"is_high_risk\"] = (rfm[\"cluster\"] == high_risk_cluster).astype(int)\n",
    "\n"
   ]
  },
  {
   "cell_type": "code",
   "execution_count": 17,
   "id": "34853440-d72b-4e5b-b343-047bbe6b403d",
   "metadata": {},
   "outputs": [
    {
     "name": "stdout",
     "output_type": "stream",
     "text": [
      "is_high_risk\n",
      "0    84636\n",
      "1    11026\n",
      "Name: count, dtype: int64\n"
     ]
    }
   ],
   "source": [
    "# Now create the mapping table\n",
    "risk_labels = rfm[[\"CustomerId\", \"is_high_risk\"]].drop_duplicates()\n",
    "\n",
    "# Merge into main df\n",
    "df = df.merge(risk_labels, on=\"CustomerId\", how=\"left\")\n",
    "\n",
    "# Fill missing if any\n",
    "df[\"is_high_risk\"] = df[\"is_high_risk\"].fillna(0).astype(int)\n",
    "\n",
    "# Verify\n",
    "print(df[\"is_high_risk\"].value_counts())\n"
   ]
  },
  {
   "cell_type": "code",
   "execution_count": 20,
   "id": "3c1a2572-92f3-4f03-a398-addbdc39f99e",
   "metadata": {},
   "outputs": [],
   "source": [
    "df[\"CustomerId\"] = df[\"CustomerId\"].astype(str)\n",
    "risk_labels[\"CustomerId\"] = risk_labels[\"CustomerId\"].astype(str)\n"
   ]
  },
  {
   "cell_type": "code",
   "execution_count": 22,
   "id": "56d15344-0ddb-4310-8c3c-2b35a257c394",
   "metadata": {},
   "outputs": [
    {
     "name": "stdout",
     "output_type": "stream",
     "text": [
      "✅ Final shape: (95662, 19)\n",
      "        CustomerId  is_high_risk\n",
      "0  CustomerId_4406             0\n",
      "1  CustomerId_4406             0\n",
      "2  CustomerId_4683             1\n",
      "3   CustomerId_988             0\n",
      "4   CustomerId_988             0\n"
     ]
    }
   ],
   "source": [
    "# Drop is_high_risk if already exists in df\n",
    "if \"is_high_risk\" in df.columns:\n",
    "    df.drop(columns=[\"is_high_risk\"], inplace=True)\n",
    "\n",
    "# Now safe to merge\n",
    "df = df.merge(risk_labels, on=\"CustomerId\", how=\"left\")\n",
    "\n",
    "# Fill missing values just in case\n",
    "df[\"is_high_risk\"] = df[\"is_high_risk\"].fillna(0).astype(int)\n",
    "\n",
    "# ✅ Done\n",
    "print(\"✅ Final shape:\", df.shape)\n",
    "print(df[[\"CustomerId\", \"is_high_risk\"]].head())\n"
   ]
  },
  {
   "cell_type": "code",
   "execution_count": null,
   "id": "668718ca-01de-4919-b5a1-c93bc2f43f66",
   "metadata": {},
   "outputs": [],
   "source": []
  }
 ],
 "metadata": {
  "kernelspec": {
   "display_name": "Python 3 (ipykernel)",
   "language": "python",
   "name": "python3"
  },
  "language_info": {
   "codemirror_mode": {
    "name": "ipython",
    "version": 3
   },
   "file_extension": ".py",
   "mimetype": "text/x-python",
   "name": "python",
   "nbconvert_exporter": "python",
   "pygments_lexer": "ipython3",
   "version": "3.12.0"
  }
 },
 "nbformat": 4,
 "nbformat_minor": 5
}
